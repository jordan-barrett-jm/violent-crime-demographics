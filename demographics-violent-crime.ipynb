{
 "cells": [
  {
   "cell_type": "markdown",
   "id": "5ef212fd",
   "metadata": {},
   "source": [
    "# What Demographic Features Predict Violent Crime?\n",
    "\n",
    "Sources:\n",
    "\n",
    "California Violent Crime Rate 2000-2013 (by county) - https://data.ca.gov/dataset/violent-crime-rate\n",
    "\n",
    "US Census Age & Sex Data 2000 - 2010 - https://www2.census.gov/programs-surveys/popest/datasets/2000-2010/intercensal/county/co-est00int-agesex-5yr.csv\n",
    "\n",
    "US Census Racial Data 2000 - 2010 - https://www2.census.gov/programs-surveys/popest/datasets/2000-2010/intercensal/county/co-est00int-sexracehisp.csv\n",
    "\n",
    "Data Dictionary for US Census Data - https://www2.census.gov/programs-surveys/popest/technical-documentation/file-layouts/2000-2010/intercensal/county/"
   ]
  },
  {
   "cell_type": "code",
   "execution_count": 91,
   "id": "3828ed88",
   "metadata": {},
   "outputs": [],
   "source": [
    "import seaborn as sns\n",
    "import pandas as pd\n",
    "import matplotlib.pyplot as plt"
   ]
  },
  {
   "cell_type": "code",
   "execution_count": 2,
   "id": "4e05647c",
   "metadata": {},
   "outputs": [],
   "source": [
    "#Disable warnings\n",
    "import warnings\n",
    "warnings.filterwarnings('ignore')"
   ]
  },
  {
   "cell_type": "code",
   "execution_count": 104,
   "id": "dac3ed50",
   "metadata": {},
   "outputs": [],
   "source": [
    "#Set figure size for plots\n",
    "#sns.set(rc={'figure.figsize':(11.7,8.27)})\n",
    "sns.set(rc={'figure.figsize':(13,10)})"
   ]
  },
  {
   "cell_type": "markdown",
   "id": "3589b1a0",
   "metadata": {},
   "source": [
    "## Import Violent Crime Data"
   ]
  },
  {
   "cell_type": "code",
   "execution_count": 4,
   "id": "ee1195a2",
   "metadata": {},
   "outputs": [],
   "source": [
    "#specify columns to import\n",
    "violent_crime_cols = [\n",
    "    'ind_definition',\n",
    "    'reportyear', \n",
    "    'geotype', \n",
    "    'geoname', \n",
    "    'strata_level_name', \n",
    "    'numerator', \n",
    "    'denominator', \n",
    "    'rate', \n",
    "    'dof_population']\n",
    "\n",
    "#read in data from Excel\n",
    "violent_crime = pd.read_excel(\"hci_crime_752_pl_co_re_ca_2000-2013_21oct15-ada.xlsx\",sheet_name='ViolentCrime'\n",
    "                              , usecols=violent_crime_cols)"
   ]
  },
  {
   "cell_type": "code",
   "execution_count": 5,
   "id": "e504acc0",
   "metadata": {},
   "outputs": [
    {
     "data": {
      "text/html": [
       "<div>\n",
       "<style scoped>\n",
       "    .dataframe tbody tr th:only-of-type {\n",
       "        vertical-align: middle;\n",
       "    }\n",
       "\n",
       "    .dataframe tbody tr th {\n",
       "        vertical-align: top;\n",
       "    }\n",
       "\n",
       "    .dataframe thead th {\n",
       "        text-align: right;\n",
       "    }\n",
       "</style>\n",
       "<table border=\"1\" class=\"dataframe\">\n",
       "  <thead>\n",
       "    <tr style=\"text-align: right;\">\n",
       "      <th></th>\n",
       "      <th>ind_definition</th>\n",
       "      <th>reportyear</th>\n",
       "      <th>geotype</th>\n",
       "      <th>geoname</th>\n",
       "      <th>strata_level_name</th>\n",
       "      <th>numerator</th>\n",
       "      <th>denominator</th>\n",
       "      <th>rate</th>\n",
       "      <th>dof_population</th>\n",
       "    </tr>\n",
       "  </thead>\n",
       "  <tbody>\n",
       "    <tr>\n",
       "      <th>0</th>\n",
       "      <td>Number of Violent Crimes per 1,000 Population</td>\n",
       "      <td>2000.0</td>\n",
       "      <td>CA</td>\n",
       "      <td>California</td>\n",
       "      <td>Aggravated assault</td>\n",
       "      <td>138325.0</td>\n",
       "      <td>33847694.0</td>\n",
       "      <td>NaN</td>\n",
       "      <td>33873086.0</td>\n",
       "    </tr>\n",
       "    <tr>\n",
       "      <th>1</th>\n",
       "      <td>Number of Violent Crimes per 1,000 Population</td>\n",
       "      <td>2000.0</td>\n",
       "      <td>CA</td>\n",
       "      <td>California</td>\n",
       "      <td>Forcible rape</td>\n",
       "      <td>9784.0</td>\n",
       "      <td>33847694.0</td>\n",
       "      <td>NaN</td>\n",
       "      <td>33873086.0</td>\n",
       "    </tr>\n",
       "    <tr>\n",
       "      <th>2</th>\n",
       "      <td>Number of Violent Crimes per 1,000 Population</td>\n",
       "      <td>2000.0</td>\n",
       "      <td>CA</td>\n",
       "      <td>California</td>\n",
       "      <td>Murder and non-negligent manslaughter</td>\n",
       "      <td>2079.0</td>\n",
       "      <td>33847694.0</td>\n",
       "      <td>NaN</td>\n",
       "      <td>33873086.0</td>\n",
       "    </tr>\n",
       "    <tr>\n",
       "      <th>3</th>\n",
       "      <td>Number of Violent Crimes per 1,000 Population</td>\n",
       "      <td>2000.0</td>\n",
       "      <td>CA</td>\n",
       "      <td>California</td>\n",
       "      <td>Robbery</td>\n",
       "      <td>60237.0</td>\n",
       "      <td>33847694.0</td>\n",
       "      <td>NaN</td>\n",
       "      <td>33873086.0</td>\n",
       "    </tr>\n",
       "    <tr>\n",
       "      <th>4</th>\n",
       "      <td>Number of Violent Crimes per 1,000 Population</td>\n",
       "      <td>2000.0</td>\n",
       "      <td>CA</td>\n",
       "      <td>California</td>\n",
       "      <td>Violent crime total</td>\n",
       "      <td>210448.0</td>\n",
       "      <td>33847694.0</td>\n",
       "      <td>6.217499</td>\n",
       "      <td>33873086.0</td>\n",
       "    </tr>\n",
       "  </tbody>\n",
       "</table>\n",
       "</div>"
      ],
      "text/plain": [
       "                                  ind_definition  reportyear geotype  \\\n",
       "0  Number of Violent Crimes per 1,000 Population      2000.0      CA   \n",
       "1  Number of Violent Crimes per 1,000 Population      2000.0      CA   \n",
       "2  Number of Violent Crimes per 1,000 Population      2000.0      CA   \n",
       "3  Number of Violent Crimes per 1,000 Population      2000.0      CA   \n",
       "4  Number of Violent Crimes per 1,000 Population      2000.0      CA   \n",
       "\n",
       "      geoname                      strata_level_name  numerator  denominator  \\\n",
       "0  California                     Aggravated assault   138325.0   33847694.0   \n",
       "1  California                          Forcible rape     9784.0   33847694.0   \n",
       "2  California  Murder and non-negligent manslaughter     2079.0   33847694.0   \n",
       "3  California                                Robbery    60237.0   33847694.0   \n",
       "4  California                    Violent crime total   210448.0   33847694.0   \n",
       "\n",
       "       rate  dof_population  \n",
       "0       NaN      33873086.0  \n",
       "1       NaN      33873086.0  \n",
       "2       NaN      33873086.0  \n",
       "3       NaN      33873086.0  \n",
       "4  6.217499      33873086.0  "
      ]
     },
     "execution_count": 5,
     "metadata": {},
     "output_type": "execute_result"
    }
   ],
   "source": [
    "#preview of data\n",
    "violent_crime.head()"
   ]
  },
  {
   "cell_type": "code",
   "execution_count": 6,
   "id": "704e6c50",
   "metadata": {},
   "outputs": [],
   "source": [
    "#Filter data\n",
    "vc_filtered = violent_crime[(violent_crime.reportyear==2010.0) & (violent_crime.geotype == 'CO')]"
   ]
  },
  {
   "cell_type": "code",
   "execution_count": 7,
   "id": "59a383d9",
   "metadata": {},
   "outputs": [
    {
     "data": {
      "text/html": [
       "<div>\n",
       "<style scoped>\n",
       "    .dataframe tbody tr th:only-of-type {\n",
       "        vertical-align: middle;\n",
       "    }\n",
       "\n",
       "    .dataframe tbody tr th {\n",
       "        vertical-align: top;\n",
       "    }\n",
       "\n",
       "    .dataframe thead th {\n",
       "        text-align: right;\n",
       "    }\n",
       "</style>\n",
       "<table border=\"1\" class=\"dataframe\">\n",
       "  <thead>\n",
       "    <tr style=\"text-align: right;\">\n",
       "      <th></th>\n",
       "      <th>ind_definition</th>\n",
       "      <th>reportyear</th>\n",
       "      <th>geotype</th>\n",
       "      <th>geoname</th>\n",
       "      <th>strata_level_name</th>\n",
       "      <th>numerator</th>\n",
       "      <th>denominator</th>\n",
       "      <th>rate</th>\n",
       "      <th>dof_population</th>\n",
       "    </tr>\n",
       "  </thead>\n",
       "  <tbody>\n",
       "    <tr>\n",
       "      <th>33915</th>\n",
       "      <td>Number of Violent Crimes per 1,000 Population</td>\n",
       "      <td>2010.0</td>\n",
       "      <td>CO</td>\n",
       "      <td>Alameda</td>\n",
       "      <td>Aggravated assault</td>\n",
       "      <td>4942.0</td>\n",
       "      <td>1510271.0</td>\n",
       "      <td>NaN</td>\n",
       "      <td>1510271.0</td>\n",
       "    </tr>\n",
       "    <tr>\n",
       "      <th>33916</th>\n",
       "      <td>Number of Violent Crimes per 1,000 Population</td>\n",
       "      <td>2010.0</td>\n",
       "      <td>CO</td>\n",
       "      <td>Alameda</td>\n",
       "      <td>Forcible rape</td>\n",
       "      <td>524.0</td>\n",
       "      <td>1510271.0</td>\n",
       "      <td>NaN</td>\n",
       "      <td>1510271.0</td>\n",
       "    </tr>\n",
       "    <tr>\n",
       "      <th>33917</th>\n",
       "      <td>Number of Violent Crimes per 1,000 Population</td>\n",
       "      <td>2010.0</td>\n",
       "      <td>CO</td>\n",
       "      <td>Alameda</td>\n",
       "      <td>Murder and non-negligent manslaughter</td>\n",
       "      <td>132.0</td>\n",
       "      <td>1510271.0</td>\n",
       "      <td>NaN</td>\n",
       "      <td>1510271.0</td>\n",
       "    </tr>\n",
       "    <tr>\n",
       "      <th>33918</th>\n",
       "      <td>Number of Violent Crimes per 1,000 Population</td>\n",
       "      <td>2010.0</td>\n",
       "      <td>CO</td>\n",
       "      <td>Alameda</td>\n",
       "      <td>Robbery</td>\n",
       "      <td>4870.0</td>\n",
       "      <td>1510271.0</td>\n",
       "      <td>NaN</td>\n",
       "      <td>1510271.0</td>\n",
       "    </tr>\n",
       "    <tr>\n",
       "      <th>33919</th>\n",
       "      <td>Number of Violent Crimes per 1,000 Population</td>\n",
       "      <td>2010.0</td>\n",
       "      <td>CO</td>\n",
       "      <td>Alameda</td>\n",
       "      <td>Violent crime total</td>\n",
       "      <td>10468.0</td>\n",
       "      <td>1510271.0</td>\n",
       "      <td>6.931206</td>\n",
       "      <td>1510271.0</td>\n",
       "    </tr>\n",
       "  </tbody>\n",
       "</table>\n",
       "</div>"
      ],
      "text/plain": [
       "                                      ind_definition  reportyear geotype  \\\n",
       "33915  Number of Violent Crimes per 1,000 Population      2010.0      CO   \n",
       "33916  Number of Violent Crimes per 1,000 Population      2010.0      CO   \n",
       "33917  Number of Violent Crimes per 1,000 Population      2010.0      CO   \n",
       "33918  Number of Violent Crimes per 1,000 Population      2010.0      CO   \n",
       "33919  Number of Violent Crimes per 1,000 Population      2010.0      CO   \n",
       "\n",
       "       geoname                      strata_level_name  numerator  denominator  \\\n",
       "33915  Alameda                     Aggravated assault     4942.0    1510271.0   \n",
       "33916  Alameda                          Forcible rape      524.0    1510271.0   \n",
       "33917  Alameda  Murder and non-negligent manslaughter      132.0    1510271.0   \n",
       "33918  Alameda                                Robbery     4870.0    1510271.0   \n",
       "33919  Alameda                    Violent crime total    10468.0    1510271.0   \n",
       "\n",
       "           rate  dof_population  \n",
       "33915       NaN       1510271.0  \n",
       "33916       NaN       1510271.0  \n",
       "33917       NaN       1510271.0  \n",
       "33918       NaN       1510271.0  \n",
       "33919  6.931206       1510271.0  "
      ]
     },
     "execution_count": 7,
     "metadata": {},
     "output_type": "execute_result"
    }
   ],
   "source": [
    "vc_filtered.head()"
   ]
  },
  {
   "cell_type": "code",
   "execution_count": 8,
   "id": "9c212892",
   "metadata": {},
   "outputs": [],
   "source": [
    "#calculate the rate for each  type of crime\n",
    "vc_filtered['rate'] = (vc_filtered['numerator'] / vc_filtered['denominator']) * 1000\n",
    "\n",
    "#rename the rate column\n",
    "vc_filtered.rename({'rate': 'rate_per_1000'}, axis=1, inplace=True)  # new method"
   ]
  },
  {
   "cell_type": "code",
   "execution_count": 9,
   "id": "b1a218df",
   "metadata": {},
   "outputs": [
    {
     "data": {
      "text/html": [
       "<div>\n",
       "<style scoped>\n",
       "    .dataframe tbody tr th:only-of-type {\n",
       "        vertical-align: middle;\n",
       "    }\n",
       "\n",
       "    .dataframe tbody tr th {\n",
       "        vertical-align: top;\n",
       "    }\n",
       "\n",
       "    .dataframe thead th {\n",
       "        text-align: right;\n",
       "    }\n",
       "</style>\n",
       "<table border=\"1\" class=\"dataframe\">\n",
       "  <thead>\n",
       "    <tr style=\"text-align: right;\">\n",
       "      <th></th>\n",
       "      <th>ind_definition</th>\n",
       "      <th>reportyear</th>\n",
       "      <th>geotype</th>\n",
       "      <th>geoname</th>\n",
       "      <th>strata_level_name</th>\n",
       "      <th>numerator</th>\n",
       "      <th>denominator</th>\n",
       "      <th>rate_per_1000</th>\n",
       "      <th>dof_population</th>\n",
       "    </tr>\n",
       "  </thead>\n",
       "  <tbody>\n",
       "    <tr>\n",
       "      <th>33915</th>\n",
       "      <td>Number of Violent Crimes per 1,000 Population</td>\n",
       "      <td>2010.0</td>\n",
       "      <td>CO</td>\n",
       "      <td>Alameda</td>\n",
       "      <td>Aggravated assault</td>\n",
       "      <td>4942.0</td>\n",
       "      <td>1510271.0</td>\n",
       "      <td>3.272260</td>\n",
       "      <td>1510271.0</td>\n",
       "    </tr>\n",
       "    <tr>\n",
       "      <th>33916</th>\n",
       "      <td>Number of Violent Crimes per 1,000 Population</td>\n",
       "      <td>2010.0</td>\n",
       "      <td>CO</td>\n",
       "      <td>Alameda</td>\n",
       "      <td>Forcible rape</td>\n",
       "      <td>524.0</td>\n",
       "      <td>1510271.0</td>\n",
       "      <td>0.346958</td>\n",
       "      <td>1510271.0</td>\n",
       "    </tr>\n",
       "    <tr>\n",
       "      <th>33917</th>\n",
       "      <td>Number of Violent Crimes per 1,000 Population</td>\n",
       "      <td>2010.0</td>\n",
       "      <td>CO</td>\n",
       "      <td>Alameda</td>\n",
       "      <td>Murder and non-negligent manslaughter</td>\n",
       "      <td>132.0</td>\n",
       "      <td>1510271.0</td>\n",
       "      <td>0.087402</td>\n",
       "      <td>1510271.0</td>\n",
       "    </tr>\n",
       "    <tr>\n",
       "      <th>33918</th>\n",
       "      <td>Number of Violent Crimes per 1,000 Population</td>\n",
       "      <td>2010.0</td>\n",
       "      <td>CO</td>\n",
       "      <td>Alameda</td>\n",
       "      <td>Robbery</td>\n",
       "      <td>4870.0</td>\n",
       "      <td>1510271.0</td>\n",
       "      <td>3.224587</td>\n",
       "      <td>1510271.0</td>\n",
       "    </tr>\n",
       "    <tr>\n",
       "      <th>33919</th>\n",
       "      <td>Number of Violent Crimes per 1,000 Population</td>\n",
       "      <td>2010.0</td>\n",
       "      <td>CO</td>\n",
       "      <td>Alameda</td>\n",
       "      <td>Violent crime total</td>\n",
       "      <td>10468.0</td>\n",
       "      <td>1510271.0</td>\n",
       "      <td>6.931206</td>\n",
       "      <td>1510271.0</td>\n",
       "    </tr>\n",
       "  </tbody>\n",
       "</table>\n",
       "</div>"
      ],
      "text/plain": [
       "                                      ind_definition  reportyear geotype  \\\n",
       "33915  Number of Violent Crimes per 1,000 Population      2010.0      CO   \n",
       "33916  Number of Violent Crimes per 1,000 Population      2010.0      CO   \n",
       "33917  Number of Violent Crimes per 1,000 Population      2010.0      CO   \n",
       "33918  Number of Violent Crimes per 1,000 Population      2010.0      CO   \n",
       "33919  Number of Violent Crimes per 1,000 Population      2010.0      CO   \n",
       "\n",
       "       geoname                      strata_level_name  numerator  denominator  \\\n",
       "33915  Alameda                     Aggravated assault     4942.0    1510271.0   \n",
       "33916  Alameda                          Forcible rape      524.0    1510271.0   \n",
       "33917  Alameda  Murder and non-negligent manslaughter      132.0    1510271.0   \n",
       "33918  Alameda                                Robbery     4870.0    1510271.0   \n",
       "33919  Alameda                    Violent crime total    10468.0    1510271.0   \n",
       "\n",
       "       rate_per_1000  dof_population  \n",
       "33915       3.272260       1510271.0  \n",
       "33916       0.346958       1510271.0  \n",
       "33917       0.087402       1510271.0  \n",
       "33918       3.224587       1510271.0  \n",
       "33919       6.931206       1510271.0  "
      ]
     },
     "execution_count": 9,
     "metadata": {},
     "output_type": "execute_result"
    }
   ],
   "source": [
    "vc_filtered.head()"
   ]
  },
  {
   "cell_type": "code",
   "execution_count": 10,
   "id": "ddf30100",
   "metadata": {},
   "outputs": [
    {
     "data": {
      "text/plain": [
       "<AxesSubplot:xlabel='rate_per_1000', ylabel='Count'>"
      ]
     },
     "execution_count": 10,
     "metadata": {},
     "output_type": "execute_result"
    },
    {
     "data": {
      "image/png": "[encoded data removed]",
      "text/plain": [
       "<Figure size 842.4x595.44 with 1 Axes>"
      ]
     },
     "metadata": {},
     "output_type": "display_data"
    }
   ],
   "source": [
    "#Distribution of violent crimes by county\n",
    "sns.histplot(vc_filtered[(vc_filtered.strata_level_name=='Violent crime total')]['rate_per_1000'], kde=True)"
   ]
  },
  {
   "cell_type": "markdown",
   "id": "fe980c0b",
   "metadata": {},
   "source": [
    "## What county has the highest violent crime rate?"
   ]
  },
  {
   "cell_type": "code",
   "execution_count": 11,
   "id": "c4805055",
   "metadata": {},
   "outputs": [
    {
     "data": {
      "text/html": [
       "<div>\n",
       "<style scoped>\n",
       "    .dataframe tbody tr th:only-of-type {\n",
       "        vertical-align: middle;\n",
       "    }\n",
       "\n",
       "    .dataframe tbody tr th {\n",
       "        vertical-align: top;\n",
       "    }\n",
       "\n",
       "    .dataframe thead th {\n",
       "        text-align: right;\n",
       "    }\n",
       "</style>\n",
       "<table border=\"1\" class=\"dataframe\">\n",
       "  <thead>\n",
       "    <tr style=\"text-align: right;\">\n",
       "      <th></th>\n",
       "      <th>ind_definition</th>\n",
       "      <th>reportyear</th>\n",
       "      <th>geotype</th>\n",
       "      <th>geoname</th>\n",
       "      <th>strata_level_name</th>\n",
       "      <th>numerator</th>\n",
       "      <th>denominator</th>\n",
       "      <th>rate_per_1000</th>\n",
       "      <th>dof_population</th>\n",
       "    </tr>\n",
       "  </thead>\n",
       "  <tbody>\n",
       "    <tr>\n",
       "      <th>33924</th>\n",
       "      <td>Number of Violent Crimes per 1,000 Population</td>\n",
       "      <td>2010.0</td>\n",
       "      <td>CO</td>\n",
       "      <td>Alpine</td>\n",
       "      <td>Violent crime total</td>\n",
       "      <td>10.0</td>\n",
       "      <td>1175.0</td>\n",
       "      <td>8.510638</td>\n",
       "      <td>1175.0</td>\n",
       "    </tr>\n",
       "  </tbody>\n",
       "</table>\n",
       "</div>"
      ],
      "text/plain": [
       "                                      ind_definition  reportyear geotype  \\\n",
       "33924  Number of Violent Crimes per 1,000 Population      2010.0      CO   \n",
       "\n",
       "      geoname    strata_level_name  numerator  denominator  rate_per_1000  \\\n",
       "33924  Alpine  Violent crime total       10.0       1175.0       8.510638   \n",
       "\n",
       "       dof_population  \n",
       "33924          1175.0  "
      ]
     },
     "execution_count": 11,
     "metadata": {},
     "output_type": "execute_result"
    }
   ],
   "source": [
    "vc_filtered[vc_filtered.rate_per_1000 == vc_filtered.rate_per_1000.max()]"
   ]
  },
  {
   "cell_type": "markdown",
   "id": "1aeb48a0",
   "metadata": {},
   "source": [
    "## What forms of violent crime were commited the most?"
   ]
  },
  {
   "cell_type": "code",
   "execution_count": 12,
   "id": "49edbf87",
   "metadata": {},
   "outputs": [
    {
     "data": {
      "text/html": [
       "<div>\n",
       "<style scoped>\n",
       "    .dataframe tbody tr th:only-of-type {\n",
       "        vertical-align: middle;\n",
       "    }\n",
       "\n",
       "    .dataframe tbody tr th {\n",
       "        vertical-align: top;\n",
       "    }\n",
       "\n",
       "    .dataframe thead th {\n",
       "        text-align: right;\n",
       "    }\n",
       "</style>\n",
       "<table border=\"1\" class=\"dataframe\">\n",
       "  <thead>\n",
       "    <tr style=\"text-align: right;\">\n",
       "      <th></th>\n",
       "      <th>strata_level_name</th>\n",
       "      <th>numerator</th>\n",
       "    </tr>\n",
       "  </thead>\n",
       "  <tbody>\n",
       "    <tr>\n",
       "      <th>0</th>\n",
       "      <td>Aggravated assault</td>\n",
       "      <td>95706.0</td>\n",
       "    </tr>\n",
       "    <tr>\n",
       "      <th>1</th>\n",
       "      <td>Forcible rape</td>\n",
       "      <td>8324.0</td>\n",
       "    </tr>\n",
       "    <tr>\n",
       "      <th>2</th>\n",
       "      <td>Murder and non-negligent manslaughter</td>\n",
       "      <td>1809.0</td>\n",
       "    </tr>\n",
       "    <tr>\n",
       "      <th>3</th>\n",
       "      <td>Robbery</td>\n",
       "      <td>58091.0</td>\n",
       "    </tr>\n",
       "  </tbody>\n",
       "</table>\n",
       "</div>"
      ],
      "text/plain": [
       "                       strata_level_name  numerator\n",
       "0                     Aggravated assault    95706.0\n",
       "1                          Forcible rape     8324.0\n",
       "2  Murder and non-negligent manslaughter     1809.0\n",
       "3                                Robbery    58091.0"
      ]
     },
     "execution_count": 12,
     "metadata": {},
     "output_type": "execute_result"
    }
   ],
   "source": [
    "vc_categorical = vc_filtered[(vc_filtered.strata_level_name!='Violent crime total')]\n",
    "vc_categorical = vc_categorical[['numerator','strata_level_name']]\n",
    "vc_categorical = vc_categorical.groupby(['strata_level_name']).sum().reset_index()\n",
    "vc_categorical.head()"
   ]
  },
  {
   "cell_type": "code",
   "execution_count": 13,
   "id": "f4a3600a",
   "metadata": {},
   "outputs": [
    {
     "data": {
      "text/plain": [
       "<AxesSubplot:xlabel='strata_level_name', ylabel='numerator'>"
      ]
     },
     "execution_count": 13,
     "metadata": {},
     "output_type": "execute_result"
    },
    {
     "data": {
      "image/png": "[encoded data removed]",
      "text/plain": [
       "<Figure size 842.4x595.44 with 1 Axes>"
      ]
     },
     "metadata": {},
     "output_type": "display_data"
    }
   ],
   "source": [
    "sns.barplot(x='strata_level_name', y='numerator', data=vc_categorical)"
   ]
  },
  {
   "cell_type": "markdown",
   "id": "625d276f",
   "metadata": {},
   "source": [
    "## Import Census Demographic Data - Age & Sex"
   ]
  },
  {
   "cell_type": "code",
   "execution_count": 14,
   "id": "d61e3f0e",
   "metadata": {},
   "outputs": [],
   "source": [
    "age_sex_columns = [\n",
    "    'STNAME',\n",
    "    'CTYNAME',\n",
    "    'AGEGRP',\n",
    "    'SEX',\n",
    "    'CENSUS2010POP'\n",
    "]\n",
    "age_sex = pd.read_csv('co-est00int-agesex-5yr.csv', usecols=age_sex_columns, encoding = \"ISO-8859-1\")"
   ]
  },
  {
   "cell_type": "code",
   "execution_count": 15,
   "id": "fd1476e5",
   "metadata": {},
   "outputs": [
    {
     "data": {
      "text/html": [
       "<div>\n",
       "<style scoped>\n",
       "    .dataframe tbody tr th:only-of-type {\n",
       "        vertical-align: middle;\n",
       "    }\n",
       "\n",
       "    .dataframe tbody tr th {\n",
       "        vertical-align: top;\n",
       "    }\n",
       "\n",
       "    .dataframe thead th {\n",
       "        text-align: right;\n",
       "    }\n",
       "</style>\n",
       "<table border=\"1\" class=\"dataframe\">\n",
       "  <thead>\n",
       "    <tr style=\"text-align: right;\">\n",
       "      <th></th>\n",
       "      <th>STNAME</th>\n",
       "      <th>CTYNAME</th>\n",
       "      <th>SEX</th>\n",
       "      <th>AGEGRP</th>\n",
       "      <th>CENSUS2010POP</th>\n",
       "    </tr>\n",
       "  </thead>\n",
       "  <tbody>\n",
       "    <tr>\n",
       "      <th>0</th>\n",
       "      <td>Alabama</td>\n",
       "      <td>Autauga County</td>\n",
       "      <td>0</td>\n",
       "      <td>0</td>\n",
       "      <td>54571.0</td>\n",
       "    </tr>\n",
       "    <tr>\n",
       "      <th>1</th>\n",
       "      <td>Alabama</td>\n",
       "      <td>Autauga County</td>\n",
       "      <td>0</td>\n",
       "      <td>1</td>\n",
       "      <td>3579.0</td>\n",
       "    </tr>\n",
       "    <tr>\n",
       "      <th>2</th>\n",
       "      <td>Alabama</td>\n",
       "      <td>Autauga County</td>\n",
       "      <td>0</td>\n",
       "      <td>2</td>\n",
       "      <td>3991.0</td>\n",
       "    </tr>\n",
       "    <tr>\n",
       "      <th>3</th>\n",
       "      <td>Alabama</td>\n",
       "      <td>Autauga County</td>\n",
       "      <td>0</td>\n",
       "      <td>3</td>\n",
       "      <td>4290.0</td>\n",
       "    </tr>\n",
       "    <tr>\n",
       "      <th>4</th>\n",
       "      <td>Alabama</td>\n",
       "      <td>Autauga County</td>\n",
       "      <td>0</td>\n",
       "      <td>4</td>\n",
       "      <td>4290.0</td>\n",
       "    </tr>\n",
       "  </tbody>\n",
       "</table>\n",
       "</div>"
      ],
      "text/plain": [
       "    STNAME         CTYNAME  SEX  AGEGRP  CENSUS2010POP\n",
       "0  Alabama  Autauga County    0       0        54571.0\n",
       "1  Alabama  Autauga County    0       1         3579.0\n",
       "2  Alabama  Autauga County    0       2         3991.0\n",
       "3  Alabama  Autauga County    0       3         4290.0\n",
       "4  Alabama  Autauga County    0       4         4290.0"
      ]
     },
     "execution_count": 15,
     "metadata": {},
     "output_type": "execute_result"
    }
   ],
   "source": [
    "age_sex.head()"
   ]
  },
  {
   "cell_type": "code",
   "execution_count": 16,
   "id": "c542ea98",
   "metadata": {},
   "outputs": [],
   "source": [
    "#Filter out all other states besides California\n",
    "age_sex = age_sex[(age_sex.STNAME=='California')]"
   ]
  },
  {
   "cell_type": "code",
   "execution_count": 17,
   "id": "e562544a",
   "metadata": {},
   "outputs": [
    {
     "data": {
      "text/html": [
       "<div>\n",
       "<style scoped>\n",
       "    .dataframe tbody tr th:only-of-type {\n",
       "        vertical-align: middle;\n",
       "    }\n",
       "\n",
       "    .dataframe tbody tr th {\n",
       "        vertical-align: top;\n",
       "    }\n",
       "\n",
       "    .dataframe thead th {\n",
       "        text-align: right;\n",
       "    }\n",
       "</style>\n",
       "<table border=\"1\" class=\"dataframe\">\n",
       "  <thead>\n",
       "    <tr style=\"text-align: right;\">\n",
       "      <th></th>\n",
       "      <th>STNAME</th>\n",
       "      <th>CTYNAME</th>\n",
       "      <th>SEX</th>\n",
       "      <th>AGEGRP</th>\n",
       "      <th>CENSUS2010POP</th>\n",
       "    </tr>\n",
       "  </thead>\n",
       "  <tbody>\n",
       "    <tr>\n",
       "      <th>10602</th>\n",
       "      <td>California</td>\n",
       "      <td>Alameda County</td>\n",
       "      <td>0</td>\n",
       "      <td>0</td>\n",
       "      <td>1510271.0</td>\n",
       "    </tr>\n",
       "    <tr>\n",
       "      <th>10603</th>\n",
       "      <td>California</td>\n",
       "      <td>Alameda County</td>\n",
       "      <td>0</td>\n",
       "      <td>1</td>\n",
       "      <td>97652.0</td>\n",
       "    </tr>\n",
       "    <tr>\n",
       "      <th>10604</th>\n",
       "      <td>California</td>\n",
       "      <td>Alameda County</td>\n",
       "      <td>0</td>\n",
       "      <td>2</td>\n",
       "      <td>94546.0</td>\n",
       "    </tr>\n",
       "    <tr>\n",
       "      <th>10605</th>\n",
       "      <td>California</td>\n",
       "      <td>Alameda County</td>\n",
       "      <td>0</td>\n",
       "      <td>3</td>\n",
       "      <td>91070.0</td>\n",
       "    </tr>\n",
       "    <tr>\n",
       "      <th>10606</th>\n",
       "      <td>California</td>\n",
       "      <td>Alameda County</td>\n",
       "      <td>0</td>\n",
       "      <td>4</td>\n",
       "      <td>100394.0</td>\n",
       "    </tr>\n",
       "  </tbody>\n",
       "</table>\n",
       "</div>"
      ],
      "text/plain": [
       "           STNAME         CTYNAME  SEX  AGEGRP  CENSUS2010POP\n",
       "10602  California  Alameda County    0       0      1510271.0\n",
       "10603  California  Alameda County    0       1        97652.0\n",
       "10604  California  Alameda County    0       2        94546.0\n",
       "10605  California  Alameda County    0       3        91070.0\n",
       "10606  California  Alameda County    0       4       100394.0"
      ]
     },
     "execution_count": 17,
     "metadata": {},
     "output_type": "execute_result"
    }
   ],
   "source": [
    "age_sex.head()"
   ]
  },
  {
   "cell_type": "code",
   "execution_count": 18,
   "id": "16fd8af4",
   "metadata": {},
   "outputs": [],
   "source": [
    "#Clean up County Name\n",
    "age_sex['NEW_CTY_NAME'] = age_sex['CTYNAME'].str.replace(' County', '')"
   ]
  },
  {
   "cell_type": "code",
   "execution_count": 19,
   "id": "4723301b",
   "metadata": {},
   "outputs": [],
   "source": [
    "#Filter out sex segregated rows, keep only age segregated data\n",
    "age_only = age_sex[(age_sex.SEX==0) & (age_sex.AGEGRP > 0)]"
   ]
  },
  {
   "cell_type": "code",
   "execution_count": 20,
   "id": "50772335",
   "metadata": {},
   "outputs": [],
   "source": [
    "age_only['TOTAL_POP'] = 0\n",
    "for index,row in age_only.iterrows():\n",
    "    #find total pop\n",
    "    total_pop = age_sex[(age_sex.CTYNAME == row['CTYNAME']) & (age_sex.SEX == 0) & (age_sex.AGEGRP==0)]['CENSUS2010POP'].max()\n",
    "    age_only.at[index, 'TOTAL_POP'] = total_pop\n",
    "age_only['POP_PROPORTION'] = (age_only['CENSUS2010POP'] / age_only['TOTAL_POP'] * 100)"
   ]
  },
  {
   "cell_type": "code",
   "execution_count": 21,
   "id": "140a5d41",
   "metadata": {},
   "outputs": [
    {
     "data": {
      "text/html": [
       "<div>\n",
       "<style scoped>\n",
       "    .dataframe tbody tr th:only-of-type {\n",
       "        vertical-align: middle;\n",
       "    }\n",
       "\n",
       "    .dataframe tbody tr th {\n",
       "        vertical-align: top;\n",
       "    }\n",
       "\n",
       "    .dataframe thead th {\n",
       "        text-align: right;\n",
       "    }\n",
       "</style>\n",
       "<table border=\"1\" class=\"dataframe\">\n",
       "  <thead>\n",
       "    <tr style=\"text-align: right;\">\n",
       "      <th></th>\n",
       "      <th>STNAME</th>\n",
       "      <th>CTYNAME</th>\n",
       "      <th>SEX</th>\n",
       "      <th>AGEGRP</th>\n",
       "      <th>CENSUS2010POP</th>\n",
       "      <th>NEW_CTY_NAME</th>\n",
       "      <th>TOTAL_POP</th>\n",
       "      <th>POP_PROPORTION</th>\n",
       "    </tr>\n",
       "  </thead>\n",
       "  <tbody>\n",
       "    <tr>\n",
       "      <th>10603</th>\n",
       "      <td>California</td>\n",
       "      <td>Alameda County</td>\n",
       "      <td>0</td>\n",
       "      <td>1</td>\n",
       "      <td>97652.0</td>\n",
       "      <td>Alameda</td>\n",
       "      <td>1510271</td>\n",
       "      <td>6.465859</td>\n",
       "    </tr>\n",
       "    <tr>\n",
       "      <th>10604</th>\n",
       "      <td>California</td>\n",
       "      <td>Alameda County</td>\n",
       "      <td>0</td>\n",
       "      <td>2</td>\n",
       "      <td>94546.0</td>\n",
       "      <td>Alameda</td>\n",
       "      <td>1510271</td>\n",
       "      <td>6.260201</td>\n",
       "    </tr>\n",
       "    <tr>\n",
       "      <th>10605</th>\n",
       "      <td>California</td>\n",
       "      <td>Alameda County</td>\n",
       "      <td>0</td>\n",
       "      <td>3</td>\n",
       "      <td>91070.0</td>\n",
       "      <td>Alameda</td>\n",
       "      <td>1510271</td>\n",
       "      <td>6.030044</td>\n",
       "    </tr>\n",
       "    <tr>\n",
       "      <th>10606</th>\n",
       "      <td>California</td>\n",
       "      <td>Alameda County</td>\n",
       "      <td>0</td>\n",
       "      <td>4</td>\n",
       "      <td>100394.0</td>\n",
       "      <td>Alameda</td>\n",
       "      <td>1510271</td>\n",
       "      <td>6.647416</td>\n",
       "    </tr>\n",
       "    <tr>\n",
       "      <th>10607</th>\n",
       "      <td>California</td>\n",
       "      <td>Alameda County</td>\n",
       "      <td>0</td>\n",
       "      <td>5</td>\n",
       "      <td>107049.0</td>\n",
       "      <td>Alameda</td>\n",
       "      <td>1510271</td>\n",
       "      <td>7.088066</td>\n",
       "    </tr>\n",
       "  </tbody>\n",
       "</table>\n",
       "</div>"
      ],
      "text/plain": [
       "           STNAME         CTYNAME  SEX  AGEGRP  CENSUS2010POP NEW_CTY_NAME  \\\n",
       "10603  California  Alameda County    0       1        97652.0      Alameda   \n",
       "10604  California  Alameda County    0       2        94546.0      Alameda   \n",
       "10605  California  Alameda County    0       3        91070.0      Alameda   \n",
       "10606  California  Alameda County    0       4       100394.0      Alameda   \n",
       "10607  California  Alameda County    0       5       107049.0      Alameda   \n",
       "\n",
       "       TOTAL_POP  POP_PROPORTION  \n",
       "10603    1510271        6.465859  \n",
       "10604    1510271        6.260201  \n",
       "10605    1510271        6.030044  \n",
       "10606    1510271        6.647416  \n",
       "10607    1510271        7.088066  "
      ]
     },
     "execution_count": 21,
     "metadata": {},
     "output_type": "execute_result"
    }
   ],
   "source": [
    "age_only.head()"
   ]
  },
  {
   "cell_type": "markdown",
   "id": "d664631c",
   "metadata": {},
   "source": [
    "## What counties have the oldest populations?\n",
    "\n",
    "Let's create a new dataframe with a column called **ABOVE_50** which is the percentage of the population above 35 years old\n",
    "\n",
    "#### The key for AGEGRP is as follows:\n",
    "0 = Total  \n",
    "1 = Age 0 to 4 years  \n",
    "2 = Age 5 to 9 years  \n",
    "3 = Age 10 to 14 years  \n",
    "4 = Age 15 to 19 years  \n",
    "5 = Age 20 to 24 years  \n",
    "6 = Age 25 to 29 years  \n",
    "7 = Age 30 to 34 years  \n",
    "8 = Age 35 to 39 years   \n",
    "9 = Age 40 to 44 years  \n",
    "10 = Age 45 to 49 years  \n",
    "11 = Age 50 to 54 years  \n",
    "12 = Age 55 to 59 years  \n",
    "13 = Age 60 to 64 years  \n",
    "14 = Age 65 to 69 years  \n",
    "15 = Age 70 to 74 years  \n",
    "16 = Age 75 to 79 years  \n",
    "17 = Age 80 to 84 years  \n",
    "18 = Age 85 years and older  "
   ]
  },
  {
   "cell_type": "code",
   "execution_count": 22,
   "id": "11d55638",
   "metadata": {},
   "outputs": [],
   "source": [
    "older_population = age_only[['NEW_CTY_NAME', 'TOTAL_POP']]\n",
    "older_population.rename({'NEW_CTY_NAME': 'CTYNAME'}, axis=1, inplace=True)\n",
    "older_population.drop_duplicates(subset=['CTYNAME'], inplace=True)\n",
    "older_population['ABOVE_50'] = 0"
   ]
  },
  {
   "cell_type": "code",
   "execution_count": 23,
   "id": "c8c7f7bd",
   "metadata": {},
   "outputs": [],
   "source": [
    "for index, row in older_population.iterrows():\n",
    "    county = row['CTYNAME']\n",
    "    older_proportions = age_only[(age_only.NEW_CTY_NAME == county) & (age_only.AGEGRP >= 11)]['POP_PROPORTION']\n",
    "    sum_proportions = older_proportions.sum()\n",
    "    older_population.at[index, 'ABOVE_50'] = sum_proportions"
   ]
  },
  {
   "cell_type": "code",
   "execution_count": 24,
   "id": "534148d8",
   "metadata": {},
   "outputs": [
    {
     "data": {
      "text/html": [
       "<div>\n",
       "<style scoped>\n",
       "    .dataframe tbody tr th:only-of-type {\n",
       "        vertical-align: middle;\n",
       "    }\n",
       "\n",
       "    .dataframe tbody tr th {\n",
       "        vertical-align: top;\n",
       "    }\n",
       "\n",
       "    .dataframe thead th {\n",
       "        text-align: right;\n",
       "    }\n",
       "</style>\n",
       "<table border=\"1\" class=\"dataframe\">\n",
       "  <thead>\n",
       "    <tr style=\"text-align: right;\">\n",
       "      <th></th>\n",
       "      <th>CTYNAME</th>\n",
       "      <th>TOTAL_POP</th>\n",
       "      <th>ABOVE_50</th>\n",
       "    </tr>\n",
       "  </thead>\n",
       "  <tbody>\n",
       "    <tr>\n",
       "      <th>10603</th>\n",
       "      <td>Alameda</td>\n",
       "      <td>1510271</td>\n",
       "      <td>29</td>\n",
       "    </tr>\n",
       "    <tr>\n",
       "      <th>10660</th>\n",
       "      <td>Alpine</td>\n",
       "      <td>1175</td>\n",
       "      <td>43</td>\n",
       "    </tr>\n",
       "    <tr>\n",
       "      <th>10717</th>\n",
       "      <td>Amador</td>\n",
       "      <td>38091</td>\n",
       "      <td>47</td>\n",
       "    </tr>\n",
       "    <tr>\n",
       "      <th>10774</th>\n",
       "      <td>Butte</td>\n",
       "      <td>220000</td>\n",
       "      <td>35</td>\n",
       "    </tr>\n",
       "    <tr>\n",
       "      <th>10831</th>\n",
       "      <td>Calaveras</td>\n",
       "      <td>45578</td>\n",
       "      <td>48</td>\n",
       "    </tr>\n",
       "  </tbody>\n",
       "</table>\n",
       "</div>"
      ],
      "text/plain": [
       "         CTYNAME  TOTAL_POP  ABOVE_50\n",
       "10603    Alameda    1510271        29\n",
       "10660     Alpine       1175        43\n",
       "10717     Amador      38091        47\n",
       "10774      Butte     220000        35\n",
       "10831  Calaveras      45578        48"
      ]
     },
     "execution_count": 24,
     "metadata": {},
     "output_type": "execute_result"
    }
   ],
   "source": [
    "older_population.head()"
   ]
  },
  {
   "cell_type": "code",
   "execution_count": 25,
   "id": "b3cecb47",
   "metadata": {},
   "outputs": [
    {
     "data": {
      "text/plain": [
       "count    58.000000\n",
       "mean     33.775862\n",
       "std       7.874104\n",
       "min      22.000000\n",
       "25%      27.250000\n",
       "50%      31.500000\n",
       "75%      39.000000\n",
       "max      51.000000\n",
       "Name: ABOVE_50, dtype: float64"
      ]
     },
     "execution_count": 25,
     "metadata": {},
     "output_type": "execute_result"
    }
   ],
   "source": [
    "older_population['ABOVE_50'].describe()"
   ]
  },
  {
   "cell_type": "code",
   "execution_count": 26,
   "id": "3e9e5787",
   "metadata": {},
   "outputs": [
    {
     "data": {
      "text/plain": [
       "<AxesSubplot:xlabel='ABOVE_50', ylabel='Count'>"
      ]
     },
     "execution_count": 26,
     "metadata": {},
     "output_type": "execute_result"
    },
    {
     "data": {
      "image/png": "[encoded data removed]",
      "text/plain": [
       "<Figure size 842.4x595.44 with 1 Axes>"
      ]
     },
     "metadata": {},
     "output_type": "display_data"
    }
   ],
   "source": [
    "sns.histplot(older_population['ABOVE_50'], kde=True)"
   ]
  },
  {
   "cell_type": "code",
   "execution_count": 27,
   "id": "f6e2d633",
   "metadata": {},
   "outputs": [
    {
     "data": {
      "text/html": [
       "<div>\n",
       "<style scoped>\n",
       "    .dataframe tbody tr th:only-of-type {\n",
       "        vertical-align: middle;\n",
       "    }\n",
       "\n",
       "    .dataframe tbody tr th {\n",
       "        vertical-align: top;\n",
       "    }\n",
       "\n",
       "    .dataframe thead th {\n",
       "        text-align: right;\n",
       "    }\n",
       "</style>\n",
       "<table border=\"1\" class=\"dataframe\">\n",
       "  <thead>\n",
       "    <tr style=\"text-align: right;\">\n",
       "      <th></th>\n",
       "      <th>CTYNAME</th>\n",
       "      <th>TOTAL_POP</th>\n",
       "      <th>ABOVE_50</th>\n",
       "    </tr>\n",
       "  </thead>\n",
       "  <tbody>\n",
       "    <tr>\n",
       "      <th>13168</th>\n",
       "      <td>Sierra</td>\n",
       "      <td>3240</td>\n",
       "      <td>51</td>\n",
       "    </tr>\n",
       "    <tr>\n",
       "      <th>12370</th>\n",
       "      <td>Plumas</td>\n",
       "      <td>20007</td>\n",
       "      <td>49</td>\n",
       "    </tr>\n",
       "    <tr>\n",
       "      <th>10831</th>\n",
       "      <td>Calaveras</td>\n",
       "      <td>45578</td>\n",
       "      <td>48</td>\n",
       "    </tr>\n",
       "    <tr>\n",
       "      <th>11800</th>\n",
       "      <td>Mariposa</td>\n",
       "      <td>18251</td>\n",
       "      <td>48</td>\n",
       "    </tr>\n",
       "    <tr>\n",
       "      <th>13567</th>\n",
       "      <td>Trinity</td>\n",
       "      <td>13786</td>\n",
       "      <td>48</td>\n",
       "    </tr>\n",
       "  </tbody>\n",
       "</table>\n",
       "</div>"
      ],
      "text/plain": [
       "         CTYNAME  TOTAL_POP  ABOVE_50\n",
       "13168     Sierra       3240        51\n",
       "12370     Plumas      20007        49\n",
       "10831  Calaveras      45578        48\n",
       "11800   Mariposa      18251        48\n",
       "13567    Trinity      13786        48"
      ]
     },
     "execution_count": 27,
     "metadata": {},
     "output_type": "execute_result"
    }
   ],
   "source": [
    "older_population.nlargest(5, 'ABOVE_50')"
   ]
  },
  {
   "cell_type": "markdown",
   "id": "9664cf1f",
   "metadata": {},
   "source": [
    "## Do older populations have less violent crime?"
   ]
  },
  {
   "cell_type": "code",
   "execution_count": 28,
   "id": "a1a8e0c5",
   "metadata": {},
   "outputs": [],
   "source": [
    "#Let's join the older_population and violent crime dataframes\n",
    "vc_total = vc_filtered[(vc_filtered.strata_level_name=='Violent crime total')]\n",
    "vc_total.rename({'geoname': 'CTYNAME'}, axis=1, inplace=True)\n",
    "age_vc = older_population.merge(vc_total, how='inner', on='CTYNAME')[['CTYNAME','rate_per_1000', 'ABOVE_50']]"
   ]
  },
  {
   "cell_type": "code",
   "execution_count": 29,
   "id": "ab7b3078",
   "metadata": {},
   "outputs": [
    {
     "data": {
      "text/html": [
       "<div>\n",
       "<style scoped>\n",
       "    .dataframe tbody tr th:only-of-type {\n",
       "        vertical-align: middle;\n",
       "    }\n",
       "\n",
       "    .dataframe tbody tr th {\n",
       "        vertical-align: top;\n",
       "    }\n",
       "\n",
       "    .dataframe thead th {\n",
       "        text-align: right;\n",
       "    }\n",
       "</style>\n",
       "<table border=\"1\" class=\"dataframe\">\n",
       "  <thead>\n",
       "    <tr style=\"text-align: right;\">\n",
       "      <th></th>\n",
       "      <th>rate_per_1000</th>\n",
       "      <th>ABOVE_50</th>\n",
       "    </tr>\n",
       "  </thead>\n",
       "  <tbody>\n",
       "    <tr>\n",
       "      <th>rate_per_1000</th>\n",
       "      <td>1.000000</td>\n",
       "      <td>-0.163612</td>\n",
       "    </tr>\n",
       "    <tr>\n",
       "      <th>ABOVE_50</th>\n",
       "      <td>-0.163612</td>\n",
       "      <td>1.000000</td>\n",
       "    </tr>\n",
       "  </tbody>\n",
       "</table>\n",
       "</div>"
      ],
      "text/plain": [
       "               rate_per_1000  ABOVE_50\n",
       "rate_per_1000       1.000000 -0.163612\n",
       "ABOVE_50           -0.163612  1.000000"
      ]
     },
     "execution_count": 29,
     "metadata": {},
     "output_type": "execute_result"
    }
   ],
   "source": [
    "age_vc.corr(method='pearson')"
   ]
  },
  {
   "cell_type": "code",
   "execution_count": 92,
   "id": "a6aa4119",
   "metadata": {},
   "outputs": [
    {
     "data": {
      "text/plain": [
       "[Text(0.5, 0, 'County Population Above 50 (%)'),\n",
       " Text(0, 0.5, 'Violent Crimes per 1000')]"
      ]
     },
     "execution_count": 92,
     "metadata": {},
     "output_type": "execute_result"
    },
    {
     "data": {
      "image/png": "[encoded data removed]",
      "text/plain": [
       "<Figure size 842.4x595.44 with 1 Axes>"
      ]
     },
     "metadata": {},
     "output_type": "display_data"
    }
   ],
   "source": [
    "fig = sns.regplot(x='ABOVE_50', y='rate_per_1000', data=age_vc)\n",
    "fig.set(title='Do older populations commit less violent crimes?')\n",
    "fig.set(xlabel='County Population Above 50 (%)', ylabel='Violent Crimes per 1000')"
   ]
  },
  {
   "cell_type": "markdown",
   "id": "9073d9b6",
   "metadata": {},
   "source": [
    "## Do any form of violent crimes occur more or less frequently in older populations?"
   ]
  },
  {
   "cell_type": "code",
   "execution_count": 67,
   "id": "5a8d18b3",
   "metadata": {},
   "outputs": [
    {
     "data": {
      "text/html": [
       "<div>\n",
       "<style scoped>\n",
       "    .dataframe tbody tr th:only-of-type {\n",
       "        vertical-align: middle;\n",
       "    }\n",
       "\n",
       "    .dataframe tbody tr th {\n",
       "        vertical-align: top;\n",
       "    }\n",
       "\n",
       "    .dataframe thead tr th {\n",
       "        text-align: left;\n",
       "    }\n",
       "</style>\n",
       "<table border=\"1\" class=\"dataframe\">\n",
       "  <thead>\n",
       "    <tr>\n",
       "      <th></th>\n",
       "      <th>CTYNAME</th>\n",
       "      <th colspan=\"5\" halign=\"left\">rate_per_1000</th>\n",
       "    </tr>\n",
       "    <tr>\n",
       "      <th>strata_level_name</th>\n",
       "      <th></th>\n",
       "      <th>Aggravated assault</th>\n",
       "      <th>Forcible rape</th>\n",
       "      <th>Murder and non-negligent manslaughter</th>\n",
       "      <th>Robbery</th>\n",
       "      <th>Violent crime total</th>\n",
       "    </tr>\n",
       "  </thead>\n",
       "  <tbody>\n",
       "    <tr>\n",
       "      <th>0</th>\n",
       "      <td>Alameda</td>\n",
       "      <td>3.272260</td>\n",
       "      <td>0.346958</td>\n",
       "      <td>0.087402</td>\n",
       "      <td>3.224587</td>\n",
       "      <td>6.931206</td>\n",
       "    </tr>\n",
       "    <tr>\n",
       "      <th>2</th>\n",
       "      <td>Amador</td>\n",
       "      <td>2.284004</td>\n",
       "      <td>0.315035</td>\n",
       "      <td>0.026253</td>\n",
       "      <td>0.262529</td>\n",
       "      <td>2.887821</td>\n",
       "    </tr>\n",
       "    <tr>\n",
       "      <th>3</th>\n",
       "      <td>Butte</td>\n",
       "      <td>2.300000</td>\n",
       "      <td>0.418182</td>\n",
       "      <td>0.031818</td>\n",
       "      <td>0.713636</td>\n",
       "      <td>3.463636</td>\n",
       "    </tr>\n",
       "    <tr>\n",
       "      <th>4</th>\n",
       "      <td>Calaveras</td>\n",
       "      <td>1.470007</td>\n",
       "      <td>0.241345</td>\n",
       "      <td>0.021940</td>\n",
       "      <td>0.307166</td>\n",
       "      <td>2.040458</td>\n",
       "    </tr>\n",
       "    <tr>\n",
       "      <th>6</th>\n",
       "      <td>Contra Costa</td>\n",
       "      <td>2.388885</td>\n",
       "      <td>0.180167</td>\n",
       "      <td>0.061962</td>\n",
       "      <td>1.492815</td>\n",
       "      <td>4.123829</td>\n",
       "    </tr>\n",
       "  </tbody>\n",
       "</table>\n",
       "</div>"
      ],
      "text/plain": [
       "                        CTYNAME      rate_per_1000                \\\n",
       "strata_level_name               Aggravated assault Forcible rape   \n",
       "0                       Alameda           3.272260      0.346958   \n",
       "2                        Amador           2.284004      0.315035   \n",
       "3                         Butte           2.300000      0.418182   \n",
       "4                     Calaveras           1.470007      0.241345   \n",
       "6                  Contra Costa           2.388885      0.180167   \n",
       "\n",
       "                                                                   \\\n",
       "strata_level_name Murder and non-negligent manslaughter   Robbery   \n",
       "0                                              0.087402  3.224587   \n",
       "2                                              0.026253  0.262529   \n",
       "3                                              0.031818  0.713636   \n",
       "4                                              0.021940  0.307166   \n",
       "6                                              0.061962  1.492815   \n",
       "\n",
       "                                       \n",
       "strata_level_name Violent crime total  \n",
       "0                            6.931206  \n",
       "2                            2.887821  \n",
       "3                            3.463636  \n",
       "4                            2.040458  \n",
       "6                            4.123829  "
      ]
     },
     "execution_count": 67,
     "metadata": {},
     "output_type": "execute_result"
    }
   ],
   "source": [
    "#Pivot table to get violent crime rate categorically data by each county\n",
    "pivot_vc = vc_filtered[['strata_level_name','geoname','rate_per_1000']]\n",
    "pivot_vc.rename({'geoname': 'CTYNAME'}, axis=1, inplace=True)\n",
    "pivot_vc = pd.pivot_table(pivot_vc, index='CTYNAME', columns=['strata_level_name']).reset_index().dropna()\n",
    "pivot_vc.head()"
   ]
  },
  {
   "cell_type": "code",
   "execution_count": 86,
   "id": "8f382867",
   "metadata": {},
   "outputs": [],
   "source": [
    "merge_vc_df = pivot_vc['rate_per_1000']\n",
    "merge_vc_df['CTYNAME'] = pivot_vc['CTYNAME']"
   ]
  },
  {
   "cell_type": "code",
   "execution_count": 87,
   "id": "365a14e2",
   "metadata": {},
   "outputs": [],
   "source": [
    "age_vc_categorical = older_population.merge(merge_vc_df, how='inner', on='CTYNAME')"
   ]
  },
  {
   "cell_type": "code",
   "execution_count": 121,
   "id": "60cd9312",
   "metadata": {},
   "outputs": [
    {
     "data": {
      "text/html": [
       "<div>\n",
       "<style scoped>\n",
       "    .dataframe tbody tr th:only-of-type {\n",
       "        vertical-align: middle;\n",
       "    }\n",
       "\n",
       "    .dataframe tbody tr th {\n",
       "        vertical-align: top;\n",
       "    }\n",
       "\n",
       "    .dataframe thead th {\n",
       "        text-align: right;\n",
       "    }\n",
       "</style>\n",
       "<table border=\"1\" class=\"dataframe\">\n",
       "  <thead>\n",
       "    <tr style=\"text-align: right;\">\n",
       "      <th></th>\n",
       "      <th>CTYNAME</th>\n",
       "      <th>TOTAL_POP</th>\n",
       "      <th>ABOVE_50</th>\n",
       "      <th>Aggravated assault</th>\n",
       "      <th>Forcible rape</th>\n",
       "      <th>Murder and non-negligent manslaughter</th>\n",
       "      <th>Robbery</th>\n",
       "      <th>Violent crime total</th>\n",
       "    </tr>\n",
       "  </thead>\n",
       "  <tbody>\n",
       "    <tr>\n",
       "      <th>0</th>\n",
       "      <td>Alameda</td>\n",
       "      <td>1510271</td>\n",
       "      <td>29</td>\n",
       "      <td>3.272260</td>\n",
       "      <td>0.346958</td>\n",
       "      <td>0.087402</td>\n",
       "      <td>3.224587</td>\n",
       "      <td>6.931206</td>\n",
       "    </tr>\n",
       "    <tr>\n",
       "      <th>1</th>\n",
       "      <td>Amador</td>\n",
       "      <td>38091</td>\n",
       "      <td>47</td>\n",
       "      <td>2.284004</td>\n",
       "      <td>0.315035</td>\n",
       "      <td>0.026253</td>\n",
       "      <td>0.262529</td>\n",
       "      <td>2.887821</td>\n",
       "    </tr>\n",
       "    <tr>\n",
       "      <th>2</th>\n",
       "      <td>Butte</td>\n",
       "      <td>220000</td>\n",
       "      <td>35</td>\n",
       "      <td>2.300000</td>\n",
       "      <td>0.418182</td>\n",
       "      <td>0.031818</td>\n",
       "      <td>0.713636</td>\n",
       "      <td>3.463636</td>\n",
       "    </tr>\n",
       "    <tr>\n",
       "      <th>3</th>\n",
       "      <td>Calaveras</td>\n",
       "      <td>45578</td>\n",
       "      <td>48</td>\n",
       "      <td>1.470007</td>\n",
       "      <td>0.241345</td>\n",
       "      <td>0.021940</td>\n",
       "      <td>0.307166</td>\n",
       "      <td>2.040458</td>\n",
       "    </tr>\n",
       "    <tr>\n",
       "      <th>4</th>\n",
       "      <td>Contra Costa</td>\n",
       "      <td>1049025</td>\n",
       "      <td>32</td>\n",
       "      <td>2.388885</td>\n",
       "      <td>0.180167</td>\n",
       "      <td>0.061962</td>\n",
       "      <td>1.492815</td>\n",
       "      <td>4.123829</td>\n",
       "    </tr>\n",
       "  </tbody>\n",
       "</table>\n",
       "</div>"
      ],
      "text/plain": [
       "        CTYNAME  TOTAL_POP  ABOVE_50  Aggravated assault  Forcible rape  \\\n",
       "0       Alameda    1510271        29            3.272260       0.346958   \n",
       "1        Amador      38091        47            2.284004       0.315035   \n",
       "2         Butte     220000        35            2.300000       0.418182   \n",
       "3     Calaveras      45578        48            1.470007       0.241345   \n",
       "4  Contra Costa    1049025        32            2.388885       0.180167   \n",
       "\n",
       "   Murder and non-negligent manslaughter   Robbery  Violent crime total  \n",
       "0                               0.087402  3.224587             6.931206  \n",
       "1                               0.026253  0.262529             2.887821  \n",
       "2                               0.031818  0.713636             3.463636  \n",
       "3                               0.021940  0.307166             2.040458  \n",
       "4                               0.061962  1.492815             4.123829  "
      ]
     },
     "execution_count": 121,
     "metadata": {},
     "output_type": "execute_result"
    }
   ],
   "source": [
    "age_vc_categorical.head()"
   ]
  },
  {
   "cell_type": "code",
   "execution_count": 120,
   "id": "5b88d5b4",
   "metadata": {},
   "outputs": [
    {
     "data": {
      "text/html": [
       "<div>\n",
       "<style scoped>\n",
       "    .dataframe tbody tr th:only-of-type {\n",
       "        vertical-align: middle;\n",
       "    }\n",
       "\n",
       "    .dataframe tbody tr th {\n",
       "        vertical-align: top;\n",
       "    }\n",
       "\n",
       "    .dataframe thead th {\n",
       "        text-align: right;\n",
       "    }\n",
       "</style>\n",
       "<table border=\"1\" class=\"dataframe\">\n",
       "  <thead>\n",
       "    <tr style=\"text-align: right;\">\n",
       "      <th></th>\n",
       "      <th>ABOVE_50</th>\n",
       "      <th>Forcible rape</th>\n",
       "      <th>Robbery</th>\n",
       "      <th>Aggravated assault</th>\n",
       "      <th>Murder and non-negligent manslaughter</th>\n",
       "    </tr>\n",
       "  </thead>\n",
       "  <tbody>\n",
       "    <tr>\n",
       "      <th>ABOVE_50</th>\n",
       "      <td>1.000000</td>\n",
       "      <td>0.273936</td>\n",
       "      <td>-0.409066</td>\n",
       "      <td>-0.129614</td>\n",
       "      <td>-0.403713</td>\n",
       "    </tr>\n",
       "    <tr>\n",
       "      <th>Forcible rape</th>\n",
       "      <td>0.273936</td>\n",
       "      <td>1.000000</td>\n",
       "      <td>-0.155783</td>\n",
       "      <td>0.291590</td>\n",
       "      <td>0.209254</td>\n",
       "    </tr>\n",
       "    <tr>\n",
       "      <th>Robbery</th>\n",
       "      <td>-0.409066</td>\n",
       "      <td>-0.155783</td>\n",
       "      <td>1.000000</td>\n",
       "      <td>0.240911</td>\n",
       "      <td>0.576893</td>\n",
       "    </tr>\n",
       "    <tr>\n",
       "      <th>Aggravated assault</th>\n",
       "      <td>-0.129614</td>\n",
       "      <td>0.291590</td>\n",
       "      <td>0.240911</td>\n",
       "      <td>1.000000</td>\n",
       "      <td>0.332134</td>\n",
       "    </tr>\n",
       "    <tr>\n",
       "      <th>Murder and non-negligent manslaughter</th>\n",
       "      <td>-0.403713</td>\n",
       "      <td>0.209254</td>\n",
       "      <td>0.576893</td>\n",
       "      <td>0.332134</td>\n",
       "      <td>1.000000</td>\n",
       "    </tr>\n",
       "  </tbody>\n",
       "</table>\n",
       "</div>"
      ],
      "text/plain": [
       "                                       ABOVE_50  Forcible rape   Robbery  \\\n",
       "ABOVE_50                               1.000000       0.273936 -0.409066   \n",
       "Forcible rape                          0.273936       1.000000 -0.155783   \n",
       "Robbery                               -0.409066      -0.155783  1.000000   \n",
       "Aggravated assault                    -0.129614       0.291590  0.240911   \n",
       "Murder and non-negligent manslaughter -0.403713       0.209254  0.576893   \n",
       "\n",
       "                                       Aggravated assault  \\\n",
       "ABOVE_50                                        -0.129614   \n",
       "Forcible rape                                    0.291590   \n",
       "Robbery                                          0.240911   \n",
       "Aggravated assault                               1.000000   \n",
       "Murder and non-negligent manslaughter            0.332134   \n",
       "\n",
       "                                       Murder and non-negligent manslaughter  \n",
       "ABOVE_50                                                           -0.403713  \n",
       "Forcible rape                                                       0.209254  \n",
       "Robbery                                                             0.576893  \n",
       "Aggravated assault                                                  0.332134  \n",
       "Murder and non-negligent manslaughter                               1.000000  "
      ]
     },
     "execution_count": 120,
     "metadata": {},
     "output_type": "execute_result"
    }
   ],
   "source": [
    "age_vc_categorical[['ABOVE_50','Forcible rape','Robbery','Aggravated assault','Murder and non-negligent manslaughter']].corr()"
   ]
  },
  {
   "cell_type": "code",
   "execution_count": 113,
   "id": "d1b29a03",
   "metadata": {},
   "outputs": [
    {
     "data": {
      "text/plain": [
       "<AxesSubplot:xlabel='ABOVE_50', ylabel='Murder and non-negligent manslaughter'>"
      ]
     },
     "execution_count": 113,
     "metadata": {},
     "output_type": "execute_result"
    },
    {
     "data": {
      "image/png": "[encoded data removed]",
      "text/plain": [
       "<Figure size 936x720 with 4 Axes>"
      ]
     },
     "metadata": {},
     "output_type": "display_data"
    }
   ],
   "source": [
    "fig, axs = plt.subplots(ncols=2,nrows=2)\n",
    "sns.regplot(x='ABOVE_50', y='Aggravated assault', data=age_vc_categorical, ax=axs[0][0])\n",
    "sns.regplot(x='ABOVE_50', y='Forcible rape', data=age_vc_categorical, ax=axs[0][1])\n",
    "sns.regplot(x='ABOVE_50', y='Robbery', data=age_vc_categorical, ax=axs[1][0])\n",
    "sns.regplot(x='ABOVE_50', y='Murder and non-negligent manslaughter', data=age_vc_categorical, ax=axs[1][1])"
   ]
  }
 ],
 "metadata": {
  "kernelspec": {
   "display_name": "Python 3",
   "language": "python",
   "name": "python3"
  },
  "language_info": {
   "codemirror_mode": {
    "name": "ipython",
    "version": 3
   },
   "file_extension": ".py",
   "mimetype": "text/x-python",
   "name": "python",
   "nbconvert_exporter": "python",
   "pygments_lexer": "ipython3",
   "version": "3.9.5"
  }
 },
 "nbformat": 4,
 "nbformat_minor": 5
}
